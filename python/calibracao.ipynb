{
  "cells": [
    {
      "cell_type": "code",
      "execution_count": 3,
      "metadata": {
        "id": "THlmtrZLqhmo"
      },
      "outputs": [],
      "source": [
        "from scipy.stats import t\n",
        "from scipy.linalg import pinvh as inv\n",
        "from numpy.linalg import lstsq\n",
        "import numpy.matlib as mb\n",
        "import ipywidgets as widgets\n",
        "import math as mt\n",
        "import numpy as np\n",
        "import pandas as pd\n",
        "import re"
      ]
    },
    {
      "cell_type": "markdown",
      "metadata": {
        "id": "tE1PP1ssSnRy"
      },
      "source": [
        "# Calibração"
      ]
    },
    {
      "cell_type": "code",
      "execution_count": 4,
      "metadata": {
        "id": "niFZUHFGSaqU"
      },
      "outputs": [],
      "source": [
        "def MMQ(y, mx):\n",
        "  coef = (inv(mx.T @ mx)) @ (mx.T @ y) # Faz a linearização com os dados\n",
        "  return (coef)"
      ]
    },
    {
      "cell_type": "code",
      "execution_count": 5,
      "metadata": {
        "id": "4rpNL-sUg5Sx"
      },
      "outputs": [],
      "source": [
        "def RMSE(yReal, yEstimado): # root-mean-square deviation\n",
        "  residuos = np.sum(np.power((yReal - yEstimado),2))**0.5\n",
        "  return(residuos)"
      ]
    },
    {
      "cell_type": "markdown",
      "metadata": {
        "id": "obBN3LMNi5Pl"
      },
      "source": [
        "## Caso 1: Sistema de 1º Ordem sendo avaliado por diversas ordens"
      ]
    },
    {
      "cell_type": "code",
      "execution_count": 6,
      "metadata": {
        "id": "TdX-MdZesT8-"
      },
      "outputs": [],
      "source": [
        "x = np.matrix(np.arange(0,10,1)+np.random.uniform(0,1,10))\n",
        "y = np.matrix((56*x+32)+(np.random.uniform(0,1,10)))"
      ]
    },
    {
      "cell_type": "code",
      "execution_count": 7,
      "metadata": {
        "colab": {
          "base_uri": "https://localhost:8080/"
        },
        "id": "JRaZlrBwYzqz",
        "outputId": "ffd3258c-14db-4f5b-c778-cd9d1b50d45a"
      },
      "outputs": [
        {
          "name": "stdout",
          "output_type": "stream",
          "text": [
            "[[55.95960221]] [[32.71276866]]\n",
            "[[ 83.59592463 119.6674507  186.53656721 210.59257083 273.84146945\n",
            "  332.87256067 419.93821788 458.57539718 503.15887091 588.60918433]] \n",
            " [[ 83.39106977 119.69566797 186.74832596 210.32688871 274.06687739\n",
            "  332.855992   420.14372163 458.68965046 503.03703695 588.43298296]]\n",
            "0.5571802067470975\n"
          ]
        }
      ],
      "source": [
        "tam = np.size(x.T,0) # Quantidade de valores analisados\n",
        "mx = np.concatenate((x.T, np.ones((tam,1))),1)\n",
        "a, b = MMQ(y.T,mx)\n",
        "yEstimado = a*x+b # Y estimado\n",
        "print(a, b)\n",
        "print(y, '\\n', yEstimado)\n",
        "print(RMSE(y,yEstimado))"
      ]
    },
    {
      "cell_type": "code",
      "execution_count": 8,
      "metadata": {
        "colab": {
          "base_uri": "https://localhost:8080/"
        },
        "id": "PinRqflZd-E5",
        "outputId": "2c350d3a-62cf-464b-a951-5fb21404b6f9"
      },
      "outputs": [
        {
          "name": "stdout",
          "output_type": "stream",
          "text": [
            "[[0.0136815]] [[55.81477505]] [[32.98061861]]\n",
            "[[ 83.59592463 119.6674507  186.53656721 210.59257083 273.84146945\n",
            "  332.87256067 419.93821788 458.57539718 503.15887091 588.60918433]] \n",
            " [[ 83.53898183 119.77145655 186.7211853  210.27289017 273.96459046\n",
            "  332.74063912 420.06467714 458.64783104 503.05410622 588.61185596]]\n",
            "0.46381325001916063\n"
          ]
        }
      ],
      "source": [
        "tam = np.size(x.T,0) # Quantidade de valores analisados\n",
        "mx = np.concatenate((np.power(x.T,2), x.T, np.ones((tam,1))),1)\n",
        "a, b, c = MMQ(y.T,mx)\n",
        "yEstimado = a*np.power(x,2)+b*x+c # Y estimado\n",
        "print(a, b, c)\n",
        "print(y, '\\n', yEstimado)\n",
        "print(RMSE(y,yEstimado))"
      ]
    },
    {
      "cell_type": "code",
      "execution_count": 9,
      "metadata": {
        "colab": {
          "base_uri": "https://localhost:8080/"
        },
        "id": "3alDMVN8etLJ",
        "outputId": "a333b214-7311-414b-b8b0-123855547457"
      },
      "outputs": [
        {
          "name": "stdout",
          "output_type": "stream",
          "text": [
            "[[0.00061446]] [[0.00373965]] [[55.8594649]] [[32.93230512]]\n",
            "[[ 83.59592463 119.6674507  186.53656721 210.59257083 273.84146945\n",
            "  332.87256067 419.93821788 458.57539718 503.15887091 588.60918433]] \n",
            " [[ 83.52344305 119.77089534 186.73337281 210.28591312 273.97338456\n",
            "  332.74082708 420.05313832 458.63465362 503.04392014 588.62866578]]\n",
            "0.46237684113173994\n"
          ]
        }
      ],
      "source": [
        "tam = np.size(x.T,0) # Quantidade de valores analisados\n",
        "mx = np.concatenate((np.power(x.T,3), np.power(x.T,2), x.T, np.ones((tam,1))),1)\n",
        "a, b, c, d = MMQ(y.T,mx)\n",
        "yEstimado = a*np.power(x,3)+b*np.power(x,2)+c*x+d # Y estimado\n",
        "print(a, b, c, d)\n",
        "print(y, '\\n', yEstimado)\n",
        "print(RMSE(y,yEstimado))"
      ]
    },
    {
      "cell_type": "markdown",
      "metadata": {
        "id": "lWgCb9SajwCf"
      },
      "source": [
        "## Caso 2: Sistema de 2º Ordem sendo avaliado por diversas ordens"
      ]
    },
    {
      "cell_type": "code",
      "execution_count": 10,
      "metadata": {
        "id": "S5Ay3Uo9kAzJ"
      },
      "outputs": [],
      "source": [
        "x = np.matrix(np.arange(0,10,1)+np.random.uniform(0,1,10))\n",
        "y = np.matrix((56*np.power(x,2)+30*x+32)+(np.random.uniform(0,1,10)))"
      ]
    },
    {
      "cell_type": "code",
      "execution_count": 11,
      "metadata": {
        "colab": {
          "base_uri": "https://localhost:8080/"
        },
        "id": "GKbbZLICkArJ",
        "outputId": "701e7fbb-a81b-4244-e3ee-c8d01ad03799"
      },
      "outputs": [
        {
          "name": "stdout",
          "output_type": "stream",
          "text": [
            "[[567.03817175]] [[-784.99686532]]\n",
            "[[  41.57236997  199.30796547  378.53586261  874.67314923 1182.43129943\n",
            "  2121.01410803 2425.85856345 3480.92430502 4248.53676404 5082.56218144]] \n",
            " [[-658.99465013   54.77153422  481.3684539  1267.94937456 1636.80860074\n",
            "  2529.43159548 2772.90295973 3515.50622645 3985.68978355 4449.98269019]]\n",
            "1281.042664013386\n"
          ]
        }
      ],
      "source": [
        "tam = np.size(x.T,0) # Quantidade de valores analisados\n",
        "mx = np.concatenate((x.T, np.ones((tam,1))),1)\n",
        "a, b = MMQ(y.T,mx)\n",
        "yEstimado = a*x+b # Y estimado\n",
        "print(a, b)\n",
        "print(y, '\\n', yEstimado)\n",
        "print(RMSE(y,yEstimado))"
      ]
    },
    {
      "cell_type": "code",
      "execution_count": 12,
      "metadata": {
        "colab": {
          "base_uri": "https://localhost:8080/"
        },
        "id": "LhIn0YSzkAia",
        "outputId": "1d3cd912-783a-4828-e237-0c4ca45b6e09"
      },
      "outputs": [
        {
          "name": "stdout",
          "output_type": "stream",
          "text": [
            "[[55.98820638]] [[30.15665613]] [[31.97683075]]\n",
            "[[  41.57236997  199.30796547  378.53586261  874.67314923 1182.43129943\n",
            "  2121.01410803 2425.85856345 3480.92430502 4248.53676404 5082.56218144]] \n",
            " [[  41.44255124  199.43595627  378.57357763  875.0416711  1182.06841309\n",
            "  2121.13405739 2425.43839208 3481.09446163 4248.78341069 5082.40407758]]\n",
            "0.7796591101138232\n"
          ]
        }
      ],
      "source": [
        "tam = np.size(x.T,0) # Quantidade de valores analisados\n",
        "mx = np.concatenate((np.power(x.T,2), x.T, np.ones((tam,1))),1)\n",
        "a, b, c = MMQ(y.T,mx)\n",
        "yEstimado = a*np.power(x,2)+b*x+c # Y estimado\n",
        "print(a, b, c)\n",
        "print(y, '\\n', yEstimado)\n",
        "print(RMSE(y,yEstimado))"
      ]
    },
    {
      "cell_type": "code",
      "execution_count": 13,
      "metadata": {
        "colab": {
          "base_uri": "https://localhost:8080/"
        },
        "id": "Ct8U1TOAkATg",
        "outputId": "5b7e90bb-19cf-41ca-94e6-687a04276ce0"
      },
      "outputs": [
        {
          "name": "stdout",
          "output_type": "stream",
          "text": [
            "[[-0.00221796]] [[56.01977552]] [[30.03937107]] [[32.05900507]]\n",
            "[[  41.57236997  199.30796547  378.53586261  874.67314923 1182.43129943\n",
            "  2121.01410803 2425.85856345 3480.92430502 4248.53676404 5082.56218144]] \n",
            " [[  41.50019799  199.40647021  378.52656879  875.00776397 1182.05272905\n",
            "  2121.16633126 2425.47963074 3481.13541109 4248.79255696 5082.34890864]]\n",
            "0.7697557306052261\n"
          ]
        }
      ],
      "source": [
        "tam = np.size(x.T,0) # Quantidade de valores analisados\n",
        "mx = np.concatenate((np.power(x.T,3), np.power(x.T,2), x.T, np.ones((tam,1))),1)\n",
        "a, b, c, d = MMQ(y.T,mx)\n",
        "yEstimado = a*np.power(x,3)+b*np.power(x,2)+c*x+d # Y estimado\n",
        "print(a, b, c, d)\n",
        "print(y, '\\n', yEstimado)\n",
        "print(RMSE(y,yEstimado))"
      ]
    },
    {
      "cell_type": "markdown",
      "metadata": {
        "id": "x44DHEgukJ0l"
      },
      "source": [
        "## Caso 3: Pontos de um arquivo sendo avaliado por diversas ordens"
      ]
    },
    {
      "cell_type": "code",
      "execution_count": 14,
      "metadata": {
        "colab": {
          "base_uri": "https://localhost:8080/"
        },
        "id": "iM4CI1lsgnN_",
        "outputId": "4ed60c5b-705c-442e-9766-6927877a3f3c"
      },
      "outputs": [
        {
          "name": "stdout",
          "output_type": "stream",
          "text": [
            "[[ 0.39822796  1.5088451   2.3325305   3.058582    4.037288    5.4544563\n",
            "   6.361142    7.602112    8.130474    9.375729   10.709036   11.4881525\n",
            "  12.139424   13.679639   14.901701   15.217435   16.594732   17.994452\n",
            "  18.736752   19.475132  ]] [[4.2962165e+00 2.8848730e+01 7.4540291e+01 1.4380664e+02 2.9306927e+02\n",
            "  6.5444305e+02 9.9602209e+02 1.6318872e+03 1.9697708e+03 2.9425405e+03\n",
            "  4.2926909e+03 5.2449819e+03 6.1420732e+03 8.6586006e+03 1.1084993e+04\n",
            "  1.1778180e+04 1.5139249e+04 1.9154824e+04 2.1547729e+04 2.4116695e+04]]\n"
          ]
        }
      ],
      "source": [
        "input = np.asmatrix(np.loadtxt('dados.txt', dtype='f', delimiter=','))\n",
        "print(input[:,0].T,input[:,1].T)"
      ]
    },
    {
      "cell_type": "code",
      "execution_count": null,
      "metadata": {
        "id": "99fgQLaR1rQk"
      },
      "outputs": [],
      "source": []
    }
  ],
  "metadata": {
    "colab": {
      "provenance": []
    },
    "kernelspec": {
      "display_name": "Python 3",
      "name": "python3"
    },
    "language_info": {
      "codemirror_mode": {
        "name": "ipython",
        "version": 3
      },
      "file_extension": ".py",
      "mimetype": "text/x-python",
      "name": "python",
      "nbconvert_exporter": "python",
      "pygments_lexer": "ipython3",
      "version": "3.12.1"
    }
  },
  "nbformat": 4,
  "nbformat_minor": 0
}
