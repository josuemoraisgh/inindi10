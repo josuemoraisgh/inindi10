{
  "cells": [
    {
      "cell_type": "code",
      "execution_count": 14,
      "metadata": {
        "id": "THlmtrZLqhmo"
      },
      "outputs": [],
      "source": [
        "from scipy.stats import t\n",
        "from scipy.linalg import pinvh as inv\n",
        "from numpy.linalg import lstsq\n",
        "import numpy.matlib as mb\n",
        "import ipywidgets as widgets\n",
        "import math as mt\n",
        "import numpy as np\n",
        "import pandas as pd\n",
        "import re"
      ]
    },
    {
      "cell_type": "markdown",
      "metadata": {
        "id": "tE1PP1ssSnRy"
      },
      "source": [
        "# Calibração"
      ]
    },
    {
      "cell_type": "code",
      "execution_count": 15,
      "metadata": {
        "id": "niFZUHFGSaqU"
      },
      "outputs": [],
      "source": [
        "def MMQ(y, mx):\n",
        "  coef = (inv(mx.T @ mx)) @ (mx.T @ y) # Faz a linearização com os dados\n",
        "  return (coef)"
      ]
    },
    {
      "cell_type": "code",
      "execution_count": 16,
      "metadata": {
        "id": "4rpNL-sUg5Sx"
      },
      "outputs": [],
      "source": [
        "def RMSE(yReal, yEstimado): # root-mean-square deviation\n",
        "  residuos = np.sum(np.power((yReal - yEstimado),2))**0.5\n",
        "  return(residuos)"
      ]
    },
    {
      "cell_type": "code",
      "execution_count": 17,
      "metadata": {},
      "outputs": [],
      "source": [
        "def calcular_r2(y_true, y_pred):\n",
        "    \"\"\"\n",
        "    Calcula o coeficiente de determinação R².\n",
        "    \n",
        "    Parâmetros:\n",
        "    y_true: array-like, Valores observados (reais).\n",
        "    y_pred: array-like, Valores preditos pelo modelo.\n",
        "    \n",
        "    Retorno:\n",
        "    r2: float, Coeficiente de determinação R².\n",
        "    \"\"\"\n",
        "    # Converter para arrays do NumPy, caso não sejam\n",
        "    y_true = np.array(y_true)\n",
        "    y_pred = np.array(y_pred)\n",
        "    \n",
        "    # Média dos valores observados\n",
        "    y_mean = np.mean(y_true)\n",
        "    \n",
        "    # Soma dos quadrados dos resíduos (SSR)\n",
        "    ss_res = np.sum((y_true - y_pred) ** 2)\n",
        "    \n",
        "    # Soma total dos quadrados (SST)\n",
        "    ss_tot = np.sum((y_true - y_mean) ** 2)\n",
        "    \n",
        "    # Cálculo de R²\n",
        "    r2 = 1 - (ss_res / ss_tot)\n",
        "    \n",
        "    return r2"
      ]
    },
    {
      "cell_type": "markdown",
      "metadata": {
        "id": "obBN3LMNi5Pl"
      },
      "source": [
        "## Caso 1: Sistema de 1º Ordem sendo avaliado por diversas ordens"
      ]
    },
    {
      "cell_type": "code",
      "execution_count": 18,
      "metadata": {
        "id": "TdX-MdZesT8-"
      },
      "outputs": [],
      "source": [
        "x = np.matrix(np.arange(0,10,1)+np.random.uniform(0,1,10))\n",
        "y = np.matrix((56*x+32)+(np.random.uniform(0,1,10)))"
      ]
    },
    {
      "cell_type": "code",
      "execution_count": 19,
      "metadata": {
        "colab": {
          "base_uri": "https://localhost:8080/"
        },
        "id": "JRaZlrBwYzqz",
        "outputId": "ffd3258c-14db-4f5b-c778-cd9d1b50d45a"
      },
      "outputs": [
        {
          "name": "stdout",
          "output_type": "stream",
          "text": [
            "[[56.0288939]] [[32.31993093]]\n",
            "[[ 82.79951898 127.29465885 151.0415121  231.90050734 297.30029881\n",
            "  358.61683368 404.14455714 473.70084904 533.42646341 591.99473932]] \n",
            " [[ 82.43920183 127.19618984 151.37178982 232.06654769 297.14880663\n",
            "  358.93445723 404.01123672 473.94425459 533.27446797 591.83298636]]\n",
            "0.7254648118307088\n",
            "0.9999981315573543\n"
          ]
        }
      ],
      "source": [
        "tam = np.size(x.T,0) # Quantidade de valores analisados\n",
        "mx = np.concatenate((x.T, np.ones((tam,1))),1)\n",
        "a, b = MMQ(y.T,mx)\n",
        "yEstimado = a*x+b # Y estimado\n",
        "print(a, b)\n",
        "print(y, '\\n', yEstimado)\n",
        "print(RMSE(y,yEstimado))\n",
        "print(calcular_r2(y,yEstimado))"
      ]
    },
    {
      "cell_type": "code",
      "execution_count": 20,
      "metadata": {
        "colab": {
          "base_uri": "https://localhost:8080/"
        },
        "id": "PinRqflZd-E5",
        "outputId": "2c350d3a-62cf-464b-a951-5fb21404b6f9"
      },
      "outputs": [
        {
          "name": "stdout",
          "output_type": "stream",
          "text": [
            "[[0.01545235]] [[55.86379608]] [[32.62206691]]\n",
            "[[ 82.79951898 127.29465885 151.0415121  231.90050734 297.30029881\n",
            "  358.61683368 404.14455714 473.70084904 533.42646341 591.99473932]] \n",
            " [[ 82.60601821 127.26306658 151.3928869  231.97649384 297.01580746\n",
            "  358.79927228 403.89816802 473.90508768 533.33574871 592.027389  ]]\n",
            "0.6273867735471508\n",
            "0.9999986026095066\n"
          ]
        }
      ],
      "source": [
        "tam = np.size(x.T,0) # Quantidade de valores analisados\n",
        "mx = np.concatenate((np.power(x.T,2), x.T, np.ones((tam,1))),1)\n",
        "a, b, c = MMQ(y.T,mx)\n",
        "yEstimado = a*np.power(x,2)+b*x+c # Y estimado\n",
        "print(a, b, c)\n",
        "print(y, '\\n', yEstimado)\n",
        "print(RMSE(y,yEstimado))\n",
        "print(calcular_r2(y,yEstimado))"
      ]
    },
    {
      "cell_type": "code",
      "execution_count": 21,
      "metadata": {
        "colab": {
          "base_uri": "https://localhost:8080/"
        },
        "id": "3alDMVN8etLJ",
        "outputId": "a333b214-7311-414b-b8b0-123855547457"
      },
      "outputs": [
        {
          "name": "stdout",
          "output_type": "stream",
          "text": [
            "[[-0.00283876]] [[0.06204995]] [[55.6520654]] [[32.8482326]]\n",
            "[[ 82.79951898 127.29465885 151.0415121  231.90050734 297.30029881\n",
            "  358.61683368 404.14455714 473.70084904 533.42646341 591.99473932]] \n",
            " [[ 82.67803976 127.25053023 151.35231113 231.91144006 296.98247264\n",
            "  358.81230793 403.9416573  473.96723522 533.36488662 591.95905779]]\n",
            "0.608143541251481\n",
            "0.9999986870165125\n"
          ]
        }
      ],
      "source": [
        "tam = np.size(x.T,0) # Quantidade de valores analisados\n",
        "mx = np.concatenate((np.power(x.T,3), np.power(x.T,2), x.T, np.ones((tam,1))),1)\n",
        "a, b, c, d = MMQ(y.T,mx)\n",
        "yEstimado = a*np.power(x,3)+b*np.power(x,2)+c*x+d # Y estimado\n",
        "print(a, b, c, d)\n",
        "print(y, '\\n', yEstimado)\n",
        "print(RMSE(y,yEstimado))\n",
        "print(calcular_r2(y,yEstimado))"
      ]
    },
    {
      "cell_type": "markdown",
      "metadata": {
        "id": "lWgCb9SajwCf"
      },
      "source": [
        "## Caso 2: Sistema de 2º Ordem sendo avaliado por diversas ordens"
      ]
    },
    {
      "cell_type": "code",
      "execution_count": 22,
      "metadata": {
        "id": "S5Ay3Uo9kAzJ"
      },
      "outputs": [],
      "source": [
        "x = np.matrix(np.arange(0,10,1)+np.random.uniform(0,1,10))\n",
        "y = np.matrix((56*np.power(x,2)+30*x+32)+(np.random.uniform(0,1,10)))"
      ]
    },
    {
      "cell_type": "code",
      "execution_count": 23,
      "metadata": {
        "colab": {
          "base_uri": "https://localhost:8080/"
        },
        "id": "GKbbZLICkArJ",
        "outputId": "701e7fbb-a81b-4244-e3ee-c8d01ad03799"
      },
      "outputs": [
        {
          "name": "stdout",
          "output_type": "stream",
          "text": [
            "[[590.14642375]] [[-878.04551894]]\n",
            "[[  35.88965169  261.51229711  503.92437566  748.39739363 1578.44676143\n",
            "  1975.96875355 2827.56429748 3356.03305896 4044.48197501 5916.8104144 ]] \n",
            " [[-822.34613299  168.25752337  683.83355081 1080.26312563 2068.6822125\n",
            "  2444.3070837  3135.97049332 3513.30104922 3961.28932291 5015.47075044]]\n",
            "1512.1576269917139\n",
            "0.9301839898107894\n"
          ]
        }
      ],
      "source": [
        "tam = np.size(x.T,0) # Quantidade de valores analisados\n",
        "mx = np.concatenate((x.T, np.ones((tam,1))),1)\n",
        "a, b = MMQ(y.T,mx)\n",
        "yEstimado = a*x+b # Y estimado\n",
        "print(a, b)\n",
        "print(y, '\\n', yEstimado)\n",
        "print(RMSE(y,yEstimado))\n",
        "print(calcular_r2(y,yEstimado))"
      ]
    },
    {
      "cell_type": "code",
      "execution_count": 24,
      "metadata": {
        "colab": {
          "base_uri": "https://localhost:8080/"
        },
        "id": "LhIn0YSzkAia",
        "outputId": "1d3cd912-783a-4828-e237-0c4ca45b6e09"
      },
      "outputs": [
        {
          "name": "stdout",
          "output_type": "stream",
          "text": [
            "[[56.00351138]] [[29.97301581]] [[32.41179732]]\n",
            "[[  35.88965169  261.51229711  503.92437566  748.39739363 1578.44676143\n",
            "  1975.96875355 2827.56429748 3356.03305896 4044.48197501 5916.8104144 ]] \n",
            " [[  35.73960043  261.59232727  504.01314566  748.54989022 1578.36379034\n",
            "  1976.10532009 2827.19950712 3356.36843149 4044.08225617 5917.01471014]]\n",
            "0.7298279148357167\n",
            "0.999999983736956\n"
          ]
        }
      ],
      "source": [
        "tam = np.size(x.T,0) # Quantidade de valores analisados\n",
        "mx = np.concatenate((np.power(x.T,2), x.T, np.ones((tam,1))),1)\n",
        "a, b, c = MMQ(y.T,mx)\n",
        "yEstimado = a*np.power(x,2)+b*x+c # Y estimado\n",
        "print(a, b, c)\n",
        "print(y, '\\n', yEstimado)\n",
        "print(RMSE(y,yEstimado))\n",
        "print(calcular_r2(y,yEstimado))"
      ]
    },
    {
      "cell_type": "code",
      "execution_count": 25,
      "metadata": {
        "colab": {
          "base_uri": "https://localhost:8080/"
        },
        "id": "Ct8U1TOAkATg",
        "outputId": "5b7e90bb-19cf-41ca-94e6-687a04276ce0"
      },
      "outputs": [
        {
          "name": "stdout",
          "output_type": "stream",
          "text": [
            "[[-0.00442851]] [[56.07099945]] [[29.70595228]] [[32.60102273]]\n",
            "[[  35.88965169  261.51229711  503.92437566  748.39739363 1578.44676143\n",
            "  1975.96875355 2827.56429748 3356.03305896 4044.48197501 5916.8104144 ]] \n",
            " [[  35.90421724  261.49552069  503.88618428  748.43422945 1578.3508227\n",
            "  1976.13983631 2827.30094668 3356.48261716 4044.17770771 5916.85689671]]\n",
            "0.6387315699030816\n",
            "0.9999999875434532\n"
          ]
        }
      ],
      "source": [
        "tam = np.size(x.T,0) # Quantidade de valores analisados\n",
        "mx = np.concatenate((np.power(x.T,3), np.power(x.T,2), x.T, np.ones((tam,1))),1)\n",
        "a, b, c, d = MMQ(y.T,mx)\n",
        "yEstimado = a*np.power(x,3)+b*np.power(x,2)+c*x+d # Y estimado\n",
        "print(a, b, c, d)\n",
        "print(y, '\\n', yEstimado)\n",
        "print(RMSE(y,yEstimado))\n",
        "print(calcular_r2(y,yEstimado))"
      ]
    },
    {
      "cell_type": "markdown",
      "metadata": {
        "id": "x44DHEgukJ0l"
      },
      "source": [
        "## Caso 3: Pontos de um arquivo sendo avaliado por diversas ordens"
      ]
    },
    {
      "cell_type": "code",
      "execution_count": 27,
      "metadata": {
        "colab": {
          "base_uri": "https://localhost:8080/"
        },
        "id": "iM4CI1lsgnN_",
        "outputId": "4ed60c5b-705c-442e-9766-6927877a3f3c"
      },
      "outputs": [
        {
          "name": "stdout",
          "output_type": "stream",
          "text": [
            "[[ 0.8564899  1.7041984  2.9876885  3.0458517  4.698207   5.4282026\n",
            "   6.3204784  7.344435   8.86173    9.407934  10.190867  11.203309\n",
            "  12.420343  13.98022   14.4629    15.513081  16.15678   17.48966\n",
            "  18.731085  19.789995 ]] [[1.09443069e+02 3.73840210e+02 1.37427979e+03 1.44239832e+03\n",
            "  4.42200830e+03 6.51736670e+03 9.86968262e+03 1.49447627e+04\n",
            "  2.52759492e+04 2.99210137e+04 3.75216055e+04 4.91279023e+04\n",
            "  6.59744688e+04 9.26839531e+04 1.02209625e+05 1.25143508e+05\n",
            "  1.40766688e+05 1.77143172e+05 2.16214516e+05 2.53763250e+05]]\n"
          ]
        }
      ],
      "source": [
        "input = np.asmatrix(np.loadtxt('dados.txt', dtype='f', delimiter=','))\n",
        "print(input[:,0].T,input[:,1].T)\n",
        "x = input[:,0].T\n",
        "y = input[:,1].T"
      ]
    },
    {
      "cell_type": "code",
      "execution_count": 28,
      "metadata": {
        "id": "99fgQLaR1rQk"
      },
      "outputs": [
        {
          "name": "stdout",
          "output_type": "stream",
          "text": [
            "[[12208.34276666]] [[-54705.71208503]]\n",
            "[[1.09443069e+02 3.73840210e+02 1.37427979e+03 1.44239832e+03\n",
            "  4.42200830e+03 6.51736670e+03 9.86968262e+03 1.49447627e+04\n",
            "  2.52759492e+04 2.99210137e+04 3.75216055e+04 4.91279023e+04\n",
            "  6.59744688e+04 9.26839531e+04 1.02209625e+05 1.25143508e+05\n",
            "  1.40766688e+05 1.77143172e+05 2.16214516e+05 2.53763250e+05]] \n",
            " [[-44249.38984902 -33900.27435835 -18230.98629144 -17520.91042395\n",
            "    2651.6081578   11563.64621779  22456.85515162  34957.67044719\n",
            "   53481.32064445  60149.57321856  69707.89051691  82068.12502984\n",
            "   96926.0974102  115969.60368723 121862.33048955 134683.29320907\n",
            "  142541.79912617 158814.0552789  173969.79183301 186897.33258759]]\n",
            "129909.61275107744\n",
            "0.8537038427039767\n"
          ]
        }
      ],
      "source": [
        "tam = np.size(x.T,0) # Quantidade de valores analisados\n",
        "mx = np.concatenate((x.T, np.ones((tam,1))),1)\n",
        "a, b = MMQ(y.T,mx)\n",
        "yEstimado = a*x+b # Y estimado\n",
        "print(a, b)\n",
        "print(y, '\\n', yEstimado)\n",
        "print(RMSE(y,yEstimado))\n",
        "print(calcular_r2(y,yEstimado))"
      ]
    },
    {
      "cell_type": "code",
      "execution_count": 29,
      "metadata": {},
      "outputs": [
        {
          "name": "stdout",
          "output_type": "stream",
          "text": [
            "[[978.52859234]] [[-7720.55317251]] [[14411.55294152]]\n",
            "[[1.09443069e+02 3.73840210e+02 1.37427979e+03 1.44239832e+03\n",
            "  4.42200830e+03 6.51736670e+03 9.86968262e+03 1.49447627e+04\n",
            "  2.52759492e+04 2.99210137e+04 3.75216055e+04 4.91279023e+04\n",
            "  6.59744688e+04 9.26839531e+04 1.02209625e+05 1.25143508e+05\n",
            "  1.40766688e+05 1.77143172e+05 2.16214516e+05 2.53763250e+05]] \n",
            " [[ 8.51680119e+03  4.09613175e+03  7.95677187e+01 -2.60888492e+01\n",
            "  -2.61996105e+02  1.33554618e+03  4.70466184e+03  1.04909942e+04\n",
            "   2.28381937e+04  2.83859031e+04  3.73563149e+04  5.07349817e+04\n",
            "   6.94722694e+04  9.77265582e+04  1.07434147e+05  1.30130443e+05\n",
            "   1.45108877e+05  1.78702064e+05  2.13117443e+05  2.44856617e+05]]\n",
            "19864.997131559292\n",
            "0.9965792025811645\n"
          ]
        }
      ],
      "source": [
        "tam = np.size(x.T,0) # Quantidade de valores analisados\n",
        "mx = np.concatenate((np.power(x.T,2), x.T, np.ones((tam,1))),1)\n",
        "a, b, c = MMQ(y.T,mx)\n",
        "yEstimado = a*np.power(x,2)+b*x+c # Y estimado\n",
        "print(a, b, c)\n",
        "print(y, '\\n', yEstimado)\n",
        "print(RMSE(y,yEstimado))\n",
        "print(calcular_r2(y,yEstimado))"
      ]
    },
    {
      "cell_type": "code",
      "execution_count": 30,
      "metadata": {},
      "outputs": [
        {
          "name": "stdout",
          "output_type": "stream",
          "text": [
            "[[30.00050807]] [[52.98185586]] [[23.17039221]] [[32.08936837]]\n",
            "[[1.09443069e+02 3.73840210e+02 1.37427979e+03 1.44239832e+03\n",
            "  4.42200830e+03 6.51736670e+03 9.86968262e+03 1.49447627e+04\n",
            "  2.52759492e+04 2.99210137e+04 3.75216055e+04 4.91279023e+04\n",
            "  6.59744688e+04 9.26839531e+04 1.02209625e+05 1.25143508e+05\n",
            "  1.40766688e+05 1.77143172e+05 2.16214516e+05 2.53763250e+05]] \n",
            " [[1.09650041e+02 3.73938301e+02 1.37432845e+03 1.44191167e+03\n",
            "  4.42160422e+03 6.51739721e+03 9.87000758e+03 1.49452695e+04\n",
            "  2.52758675e+04 2.99205498e+04 3.75219228e+04 4.91275683e+04\n",
            "  6.59747921e+04 9.26840979e+04 1.02209768e+05 1.25143138e+05\n",
            "  1.40766781e+05 1.77143001e+05 2.16214323e+05 2.53763517e+05]]\n",
            "1.2966863608926782\n",
            "0.9999999999854247\n"
          ]
        }
      ],
      "source": [
        "tam = np.size(x.T,0) # Quantidade de valores analisados\n",
        "mx = np.concatenate((np.power(x.T,3), np.power(x.T,2), x.T, np.ones((tam,1))),1)\n",
        "a, b, c, d = MMQ(y.T,mx)\n",
        "yEstimado = a*np.power(x,3)+b*np.power(x,2)+c*x+d # Y estimado\n",
        "print(a, b, c, d)\n",
        "print(y, '\\n', yEstimado)\n",
        "print(RMSE(y,yEstimado))\n",
        "print(calcular_r2(y,yEstimado))"
      ]
    }
  ],
  "metadata": {
    "colab": {
      "provenance": []
    },
    "kernelspec": {
      "display_name": "Python 3",
      "name": "python3"
    },
    "language_info": {
      "codemirror_mode": {
        "name": "ipython",
        "version": 3
      },
      "file_extension": ".py",
      "mimetype": "text/x-python",
      "name": "python",
      "nbconvert_exporter": "python",
      "pygments_lexer": "ipython3",
      "version": "3.12.1"
    }
  },
  "nbformat": 4,
  "nbformat_minor": 0
}
