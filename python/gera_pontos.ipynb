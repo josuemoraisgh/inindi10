{
  "cells": [
    {
      "cell_type": "code",
      "execution_count": 2,
      "metadata": {
        "id": "608S4wAs5BPG"
      },
      "outputs": [],
      "source": [
        "import numpy as np\n",
        "x = np.matrix(np.arange(0,20,1)+np.random.uniform(0,1,20))\n",
        "a,b,c,d = 30,53,23,32\n",
        "y = np.matrix((a*np.power(x,3)+b*np.power(x,2)+c*x+d)+(np.random.uniform(0,1,20)))\n",
        "txt  = np.concatenate((x.T,y.T),1)\n",
        "np.savetxt('dados.txt', txt, delimiter=',')"
      ]
    }
  ],
  "metadata": {
    "colab": {
      "provenance": []
    },
    "kernelspec": {
      "display_name": "Python 3",
      "name": "python3"
    },
    "language_info": {
      "codemirror_mode": {
        "name": "ipython",
        "version": 3
      },
      "file_extension": ".py",
      "mimetype": "text/x-python",
      "name": "python",
      "nbconvert_exporter": "python",
      "pygments_lexer": "ipython3",
      "version": "3.12.1"
    }
  },
  "nbformat": 4,
  "nbformat_minor": 0
}
